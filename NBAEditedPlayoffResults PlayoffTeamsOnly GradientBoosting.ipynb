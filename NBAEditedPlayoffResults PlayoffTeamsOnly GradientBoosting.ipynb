{
 "cells": [
  {
   "cell_type": "code",
   "execution_count": 1,
   "metadata": {},
   "outputs": [],
   "source": [
    "import numpy as np\n",
    "import pandas as pd\n",
    "import matplotlib as mp\n",
    "import seaborn as sns\n",
    "%matplotlib inline\n",
    "import matplotlib.pyplot as plt"
   ]
  },
  {
   "cell_type": "code",
   "execution_count": 2,
   "metadata": {},
   "outputs": [],
   "source": [
    "df = pd.read_csv('NBADataPlayoffResults.csv')"
   ]
  },
  {
   "cell_type": "code",
   "execution_count": 3,
   "metadata": {},
   "outputs": [
    {
     "data": {
      "text/html": [
       "<div>\n",
       "<style scoped>\n",
       "    .dataframe tbody tr th:only-of-type {\n",
       "        vertical-align: middle;\n",
       "    }\n",
       "\n",
       "    .dataframe tbody tr th {\n",
       "        vertical-align: top;\n",
       "    }\n",
       "\n",
       "    .dataframe thead th {\n",
       "        text-align: right;\n",
       "    }\n",
       "</style>\n",
       "<table border=\"1\" class=\"dataframe\">\n",
       "  <thead>\n",
       "    <tr style=\"text-align: right;\">\n",
       "      <th></th>\n",
       "      <th>TEAM</th>\n",
       "      <th>PACE</th>\n",
       "      <th>PACEvsLA</th>\n",
       "      <th>AST</th>\n",
       "      <th>TO</th>\n",
       "      <th>ORR</th>\n",
       "      <th>DRR</th>\n",
       "      <th>REBR</th>\n",
       "      <th>EFF FG%</th>\n",
       "      <th>EFFFGvsLA</th>\n",
       "      <th>TS%</th>\n",
       "      <th>TSvsLA</th>\n",
       "      <th>OFF EFF</th>\n",
       "      <th>OFFEFFvsLA</th>\n",
       "      <th>DEF EFF</th>\n",
       "      <th>DEFEFFvsLA</th>\n",
       "      <th>NET EFF</th>\n",
       "      <th>Result</th>\n",
       "      <th>Season</th>\n",
       "    </tr>\n",
       "  </thead>\n",
       "  <tbody>\n",
       "    <tr>\n",
       "      <th>0</th>\n",
       "      <td>Brooklyn</td>\n",
       "      <td>101.8</td>\n",
       "      <td>0.38</td>\n",
       "      <td>19.5</td>\n",
       "      <td>12.2</td>\n",
       "      <td>21.4</td>\n",
       "      <td>77.6</td>\n",
       "      <td>50.8</td>\n",
       "      <td>57.5</td>\n",
       "      <td>3.7</td>\n",
       "      <td>61.0</td>\n",
       "      <td>3.82</td>\n",
       "      <td>116.3</td>\n",
       "      <td>6.4</td>\n",
       "      <td>110.6</td>\n",
       "      <td>0.7</td>\n",
       "      <td>5.7</td>\n",
       "      <td>2</td>\n",
       "      <td>2021</td>\n",
       "    </tr>\n",
       "    <tr>\n",
       "      <th>1</th>\n",
       "      <td>LA Clippers</td>\n",
       "      <td>99.1</td>\n",
       "      <td>-2.32</td>\n",
       "      <td>18.4</td>\n",
       "      <td>12.2</td>\n",
       "      <td>22.7</td>\n",
       "      <td>79.5</td>\n",
       "      <td>51.7</td>\n",
       "      <td>56.4</td>\n",
       "      <td>2.6</td>\n",
       "      <td>59.9</td>\n",
       "      <td>2.72</td>\n",
       "      <td>115.2</td>\n",
       "      <td>5.3</td>\n",
       "      <td>108.7</td>\n",
       "      <td>-1.2</td>\n",
       "      <td>6.5</td>\n",
       "      <td>3</td>\n",
       "      <td>2021</td>\n",
       "    </tr>\n",
       "    <tr>\n",
       "      <th>2</th>\n",
       "      <td>Utah</td>\n",
       "      <td>100.8</td>\n",
       "      <td>-0.62</td>\n",
       "      <td>17.5</td>\n",
       "      <td>12.7</td>\n",
       "      <td>24.5</td>\n",
       "      <td>78.7</td>\n",
       "      <td>53.1</td>\n",
       "      <td>56.3</td>\n",
       "      <td>2.5</td>\n",
       "      <td>59.7</td>\n",
       "      <td>2.52</td>\n",
       "      <td>115.1</td>\n",
       "      <td>5.2</td>\n",
       "      <td>105.7</td>\n",
       "      <td>-4.2</td>\n",
       "      <td>9.4</td>\n",
       "      <td>2</td>\n",
       "      <td>2021</td>\n",
       "    </tr>\n",
       "    <tr>\n",
       "      <th>3</th>\n",
       "      <td>Phoenix</td>\n",
       "      <td>99.3</td>\n",
       "      <td>-2.12</td>\n",
       "      <td>19.8</td>\n",
       "      <td>11.5</td>\n",
       "      <td>20.8</td>\n",
       "      <td>78.7</td>\n",
       "      <td>50.1</td>\n",
       "      <td>56.4</td>\n",
       "      <td>2.6</td>\n",
       "      <td>59.7</td>\n",
       "      <td>2.52</td>\n",
       "      <td>114.9</td>\n",
       "      <td>5.0</td>\n",
       "      <td>108.8</td>\n",
       "      <td>-1.1</td>\n",
       "      <td>6.1</td>\n",
       "      <td>4</td>\n",
       "      <td>2021</td>\n",
       "    </tr>\n",
       "    <tr>\n",
       "      <th>4</th>\n",
       "      <td>Portland</td>\n",
       "      <td>100.8</td>\n",
       "      <td>-0.62</td>\n",
       "      <td>16.0</td>\n",
       "      <td>9.9</td>\n",
       "      <td>23.0</td>\n",
       "      <td>76.3</td>\n",
       "      <td>49.5</td>\n",
       "      <td>54.0</td>\n",
       "      <td>0.2</td>\n",
       "      <td>57.7</td>\n",
       "      <td>0.52</td>\n",
       "      <td>114.9</td>\n",
       "      <td>5.0</td>\n",
       "      <td>113.4</td>\n",
       "      <td>3.5</td>\n",
       "      <td>1.5</td>\n",
       "      <td>1</td>\n",
       "      <td>2021</td>\n",
       "    </tr>\n",
       "  </tbody>\n",
       "</table>\n",
       "</div>"
      ],
      "text/plain": [
       "          TEAM   PACE  PACEvsLA   AST    TO   ORR   DRR  REBR  EFF FG%  \\\n",
       "0     Brooklyn  101.8      0.38  19.5  12.2  21.4  77.6  50.8     57.5   \n",
       "1  LA Clippers   99.1     -2.32  18.4  12.2  22.7  79.5  51.7     56.4   \n",
       "2         Utah  100.8     -0.62  17.5  12.7  24.5  78.7  53.1     56.3   \n",
       "3      Phoenix   99.3     -2.12  19.8  11.5  20.8  78.7  50.1     56.4   \n",
       "4     Portland  100.8     -0.62  16.0   9.9  23.0  76.3  49.5     54.0   \n",
       "\n",
       "   EFFFGvsLA   TS%  TSvsLA  OFF EFF  OFFEFFvsLA  DEF EFF  DEFEFFvsLA  NET EFF  \\\n",
       "0        3.7  61.0    3.82    116.3         6.4    110.6         0.7      5.7   \n",
       "1        2.6  59.9    2.72    115.2         5.3    108.7        -1.2      6.5   \n",
       "2        2.5  59.7    2.52    115.1         5.2    105.7        -4.2      9.4   \n",
       "3        2.6  59.7    2.52    114.9         5.0    108.8        -1.1      6.1   \n",
       "4        0.2  57.7    0.52    114.9         5.0    113.4         3.5      1.5   \n",
       "\n",
       "   Result  Season  \n",
       "0       2    2021  \n",
       "1       3    2021  \n",
       "2       2    2021  \n",
       "3       4    2021  \n",
       "4       1    2021  "
      ]
     },
     "execution_count": 3,
     "metadata": {},
     "output_type": "execute_result"
    }
   ],
   "source": [
    "df.head()"
   ]
  },
  {
   "cell_type": "code",
   "execution_count": 4,
   "metadata": {},
   "outputs": [],
   "source": [
    "X = df[df['Result'] != 0].drop(columns = ['PACE', 'EFF FG%', 'TS%','OFF EFF','DEF EFF', 'TEAM', 'Season', 'EFFFGvsLA'])"
   ]
  },
  {
   "cell_type": "code",
   "execution_count": 5,
   "metadata": {},
   "outputs": [],
   "source": [
    "y = X['Result']"
   ]
  },
  {
   "cell_type": "code",
   "execution_count": 6,
   "metadata": {},
   "outputs": [],
   "source": [
    "X = X.drop(columns = ['Result'])"
   ]
  },
  {
   "cell_type": "code",
   "execution_count": 7,
   "metadata": {},
   "outputs": [
    {
     "data": {
      "text/html": [
       "<div>\n",
       "<style scoped>\n",
       "    .dataframe tbody tr th:only-of-type {\n",
       "        vertical-align: middle;\n",
       "    }\n",
       "\n",
       "    .dataframe tbody tr th {\n",
       "        vertical-align: top;\n",
       "    }\n",
       "\n",
       "    .dataframe thead th {\n",
       "        text-align: right;\n",
       "    }\n",
       "</style>\n",
       "<table border=\"1\" class=\"dataframe\">\n",
       "  <thead>\n",
       "    <tr style=\"text-align: right;\">\n",
       "      <th></th>\n",
       "      <th>PACEvsLA</th>\n",
       "      <th>AST</th>\n",
       "      <th>TO</th>\n",
       "      <th>ORR</th>\n",
       "      <th>DRR</th>\n",
       "      <th>REBR</th>\n",
       "      <th>TSvsLA</th>\n",
       "      <th>OFFEFFvsLA</th>\n",
       "      <th>DEFEFFvsLA</th>\n",
       "      <th>NET EFF</th>\n",
       "    </tr>\n",
       "  </thead>\n",
       "  <tbody>\n",
       "    <tr>\n",
       "      <th>0</th>\n",
       "      <td>0.38</td>\n",
       "      <td>19.5</td>\n",
       "      <td>12.2</td>\n",
       "      <td>21.4</td>\n",
       "      <td>77.6</td>\n",
       "      <td>50.8</td>\n",
       "      <td>3.82</td>\n",
       "      <td>6.4</td>\n",
       "      <td>0.7</td>\n",
       "      <td>5.7</td>\n",
       "    </tr>\n",
       "    <tr>\n",
       "      <th>1</th>\n",
       "      <td>-2.32</td>\n",
       "      <td>18.4</td>\n",
       "      <td>12.2</td>\n",
       "      <td>22.7</td>\n",
       "      <td>79.5</td>\n",
       "      <td>51.7</td>\n",
       "      <td>2.72</td>\n",
       "      <td>5.3</td>\n",
       "      <td>-1.2</td>\n",
       "      <td>6.5</td>\n",
       "    </tr>\n",
       "    <tr>\n",
       "      <th>2</th>\n",
       "      <td>-0.62</td>\n",
       "      <td>17.5</td>\n",
       "      <td>12.7</td>\n",
       "      <td>24.5</td>\n",
       "      <td>78.7</td>\n",
       "      <td>53.1</td>\n",
       "      <td>2.52</td>\n",
       "      <td>5.2</td>\n",
       "      <td>-4.2</td>\n",
       "      <td>9.4</td>\n",
       "    </tr>\n",
       "    <tr>\n",
       "      <th>3</th>\n",
       "      <td>-2.12</td>\n",
       "      <td>19.8</td>\n",
       "      <td>11.5</td>\n",
       "      <td>20.8</td>\n",
       "      <td>78.7</td>\n",
       "      <td>50.1</td>\n",
       "      <td>2.52</td>\n",
       "      <td>5.0</td>\n",
       "      <td>-1.1</td>\n",
       "      <td>6.1</td>\n",
       "    </tr>\n",
       "    <tr>\n",
       "      <th>4</th>\n",
       "      <td>-0.62</td>\n",
       "      <td>16.0</td>\n",
       "      <td>9.9</td>\n",
       "      <td>23.0</td>\n",
       "      <td>76.3</td>\n",
       "      <td>49.5</td>\n",
       "      <td>0.52</td>\n",
       "      <td>5.0</td>\n",
       "      <td>3.5</td>\n",
       "      <td>1.5</td>\n",
       "    </tr>\n",
       "  </tbody>\n",
       "</table>\n",
       "</div>"
      ],
      "text/plain": [
       "   PACEvsLA   AST    TO   ORR   DRR  REBR  TSvsLA  OFFEFFvsLA  DEFEFFvsLA  \\\n",
       "0      0.38  19.5  12.2  21.4  77.6  50.8    3.82         6.4         0.7   \n",
       "1     -2.32  18.4  12.2  22.7  79.5  51.7    2.72         5.3        -1.2   \n",
       "2     -0.62  17.5  12.7  24.5  78.7  53.1    2.52         5.2        -4.2   \n",
       "3     -2.12  19.8  11.5  20.8  78.7  50.1    2.52         5.0        -1.1   \n",
       "4     -0.62  16.0   9.9  23.0  76.3  49.5    0.52         5.0         3.5   \n",
       "\n",
       "   NET EFF  \n",
       "0      5.7  \n",
       "1      6.5  \n",
       "2      9.4  \n",
       "3      6.1  \n",
       "4      1.5  "
      ]
     },
     "execution_count": 7,
     "metadata": {},
     "output_type": "execute_result"
    }
   ],
   "source": [
    "X.head()"
   ]
  },
  {
   "cell_type": "code",
   "execution_count": 8,
   "metadata": {},
   "outputs": [],
   "source": [
    "from sklearn.model_selection import train_test_split"
   ]
  },
  {
   "cell_type": "code",
   "execution_count": 9,
   "metadata": {},
   "outputs": [],
   "source": [
    "X_train,X_test,y_train,y_test = train_test_split(X,y,test_size=.3, random_state = 42)"
   ]
  },
  {
   "cell_type": "code",
   "execution_count": 10,
   "metadata": {},
   "outputs": [],
   "source": [
    "from sklearn.ensemble import GradientBoostingClassifier"
   ]
  },
  {
   "cell_type": "code",
   "execution_count": 11,
   "metadata": {},
   "outputs": [],
   "source": [
    "from sklearn.model_selection import GridSearchCV"
   ]
  },
  {
   "cell_type": "code",
   "execution_count": 12,
   "metadata": {},
   "outputs": [],
   "source": [
    "param_grid = {'n_estimators': np.arange(50,100,5), 'learning_rate':np.arange(0.05,0.2,0.01), 'max_depth':[3,4,5]}"
   ]
  },
  {
   "cell_type": "code",
   "execution_count": 13,
   "metadata": {},
   "outputs": [],
   "source": [
    "nbaprgb = GradientBoostingClassifier()"
   ]
  },
  {
   "cell_type": "code",
   "execution_count": 14,
   "metadata": {},
   "outputs": [],
   "source": [
    "grid = GridSearchCV(nbaprgb, param_grid, cv = 3)"
   ]
  },
  {
   "cell_type": "code",
   "execution_count": 15,
   "metadata": {},
   "outputs": [
    {
     "data": {
      "text/plain": [
       "GridSearchCV(cv=3, estimator=GradientBoostingClassifier(),\n",
       "             param_grid={'learning_rate': array([0.05, 0.06, 0.07, 0.08, 0.09, 0.1 , 0.11, 0.12, 0.13, 0.14, 0.15,\n",
       "       0.16, 0.17, 0.18, 0.19, 0.2 ]),\n",
       "                         'max_depth': [3, 4, 5],\n",
       "                         'n_estimators': array([50, 55, 60, 65, 70, 75, 80, 85, 90, 95])})"
      ]
     },
     "execution_count": 15,
     "metadata": {},
     "output_type": "execute_result"
    }
   ],
   "source": [
    "grid.fit(X_train, y_train)"
   ]
  },
  {
   "cell_type": "code",
   "execution_count": 16,
   "metadata": {},
   "outputs": [
    {
     "data": {
      "text/plain": [
       "{'learning_rate': 0.05, 'max_depth': 5, 'n_estimators': 65}"
      ]
     },
     "execution_count": 16,
     "metadata": {},
     "output_type": "execute_result"
    }
   ],
   "source": [
    "grid.best_params_"
   ]
  },
  {
   "cell_type": "code",
   "execution_count": 17,
   "metadata": {},
   "outputs": [],
   "source": [
    "from sklearn.metrics import plot_confusion_matrix, classification_report"
   ]
  },
  {
   "cell_type": "code",
   "execution_count": 18,
   "metadata": {},
   "outputs": [],
   "source": [
    "predictions = grid.predict(X_test)"
   ]
  },
  {
   "cell_type": "code",
   "execution_count": 19,
   "metadata": {},
   "outputs": [
    {
     "name": "stdout",
     "output_type": "stream",
     "text": [
      "              precision    recall  f1-score   support\n",
      "\n",
      "           1       1.00      0.94      0.97        17\n",
      "           2       0.33      0.33      0.33         6\n",
      "           3       0.00      0.00      0.00         4\n",
      "           4       0.00      0.00      0.00         1\n",
      "           5       0.20      1.00      0.33         1\n",
      "\n",
      "    accuracy                           0.66        29\n",
      "   macro avg       0.31      0.45      0.33        29\n",
      "weighted avg       0.66      0.66      0.65        29\n",
      "\n"
     ]
    }
   ],
   "source": [
    "print(classification_report(y_test, predictions))"
   ]
  },
  {
   "cell_type": "code",
   "execution_count": 20,
   "metadata": {},
   "outputs": [
    {
     "data": {
      "text/plain": [
       "<sklearn.metrics._plot.confusion_matrix.ConfusionMatrixDisplay at 0x20b017d5e20>"
      ]
     },
     "execution_count": 20,
     "metadata": {},
     "output_type": "execute_result"
    },
    {
     "data": {
      "image/png": "[encoded data removed]",
      "text/plain": [
       "<Figure size 432x288 with 2 Axes>"
      ]
     },
     "metadata": {
      "needs_background": "light"
     },
     "output_type": "display_data"
    }
   ],
   "source": [
    "plot_confusion_matrix(grid, X_test,y_test)"
   ]
  },
  {
   "cell_type": "code",
   "execution_count": null,
   "metadata": {},
   "outputs": [],
   "source": []
  }
 ],
 "metadata": {
  "kernelspec": {
   "display_name": "Python 3",
   "language": "python",
   "name": "python3"
  },
  "language_info": {
   "codemirror_mode": {
    "name": "ipython",
    "version": 3
   },
   "file_extension": ".py",
   "mimetype": "text/x-python",
   "name": "python",
   "nbconvert_exporter": "python",
   "pygments_lexer": "ipython3",
   "version": "3.8.5"
  }
 },
 "nbformat": 4,
 "nbformat_minor": 4
}
